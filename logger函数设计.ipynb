{
 "cells": [
  {
   "cell_type": "code",
   "execution_count": 1,
   "metadata": {},
   "outputs": [],
   "source": [
    "import logging\n",
    "\n",
    "class Logger_class():\n",
    "    def __init__(self,path=None) -> None:\n",
    "        # 创建Logger对象\n",
    "        logger = logging.getLogger('Logging')\n",
    "        logger.setLevel(logging.DEBUG)\n",
    "\n",
    "        if path:\n",
    "            # 创建文件处理器\n",
    "            file_handler = logging.FileHandler(path)\n",
    "            file_handler.setLevel(logging.INFO)\n",
    "\n",
    "        # 创建控制台处理器\n",
    "        console_handler = logging.StreamHandler()\n",
    "        console_handler.setLevel(logging.DEBUG)\n",
    "\n",
    "        # 创建格式化器\n",
    "        formatter = logging.Formatter('%(asctime)s - %(name)s - %(levelname)s - %(message)s')\n",
    "\n",
    "        # 将格式化器添加到处理器\n",
    "        file_handler.setFormatter(formatter)\n",
    "        console_handler.setFormatter(formatter)\n",
    "\n",
    "        # 将处理器添加到Logger对象\n",
    "        logger.addHandler(file_handler)\n",
    "        logger.addHandler(console_handler)\n",
    "\n",
    "        self.logger=logger\n",
    "\n",
    "    def set_logger(self,info):\n",
    "        self.logger.info(info)\n"
   ]
  },
  {
   "cell_type": "code",
   "execution_count": 2,
   "metadata": {},
   "outputs": [],
   "source": [
    "logger=Logger_class(\"example.log\")"
   ]
  },
  {
   "cell_type": "code",
   "execution_count": 5,
   "metadata": {},
   "outputs": [
    {
     "name": "stderr",
     "output_type": "stream",
     "text": [
      "2023-07-22 20:34:42,445 - Logging - INFO - Evaluation over: 10 episodes, Reward: 10\n"
     ]
    }
   ],
   "source": [
    "logger.set_logger(\"Evaluation over: 10 episodes, Reward: 10\")"
   ]
  },
  {
   "cell_type": "code",
   "execution_count": null,
   "metadata": {},
   "outputs": [],
   "source": []
  }
 ],
 "metadata": {
  "kernelspec": {
   "display_name": "pytorch",
   "language": "python",
   "name": "python3"
  },
  "language_info": {
   "codemirror_mode": {
    "name": "ipython",
    "version": 3
   },
   "file_extension": ".py",
   "mimetype": "text/x-python",
   "name": "python",
   "nbconvert_exporter": "python",
   "pygments_lexer": "ipython3",
   "version": "3.7.0"
  },
  "orig_nbformat": 4
 },
 "nbformat": 4,
 "nbformat_minor": 2
}
