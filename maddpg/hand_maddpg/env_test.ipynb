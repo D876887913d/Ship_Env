{
 "cells": [
  {
   "cell_type": "code",
   "execution_count": 12,
   "metadata": {},
   "outputs": [],
   "source": [
    "from pettingzoo.mpe import simple_tag_v3\n",
    "from utils import *\n",
    "\n",
    "env = simple_tag_v3.env(render_mode='human')\n",
    "\n",
    "obs=env.reset()"
   ]
  },
  {
   "cell_type": "code",
   "execution_count": 16,
   "metadata": {},
   "outputs": [
    {
     "name": "stdout",
     "output_type": "stream",
     "text": [
      "[ 0.          0.          0.978753    0.19674939 -1.7772516  -0.75145024\n",
      " -0.30308247  0.63875914 -0.6840998  -0.10797692 -0.7919632  -0.91351694\n",
      " -0.9402449  -0.11849508  0.          0.        ] False\n"
     ]
    }
   ],
   "source": [
    "observation, reward, termination, truncation, info=env.last()\n",
    "print(observation,termination)"
   ]
  },
  {
   "cell_type": "code",
   "execution_count": 32,
   "metadata": {},
   "outputs": [
    {
     "name": "stdout",
     "output_type": "stream",
     "text": [
      "[ 0.         -0.          0.978753    0.19674939 -1.7772516  -0.75145024\n",
      " -0.30308247  0.63875914 -0.6840998  -0.10797692 -0.7919632  -0.91351694\n",
      " -0.9402449  -0.11849508 -0.         -0.        ] False\n"
     ]
    }
   ],
   "source": [
    "env.step(0)\n",
    "observation, reward, termination, truncation, info=env.last()\n",
    "print(observation,termination)"
   ]
  },
  {
   "cell_type": "code",
   "execution_count": null,
   "metadata": {},
   "outputs": [],
   "source": [
    "# 开启render一次\n",
    "env.render()\n",
    "\n",
    "# 关闭render\n",
    "env.close()"
   ]
  },
  {
   "cell_type": "code",
   "execution_count": 3,
   "metadata": {},
   "outputs": [
    {
     "name": "stdout",
     "output_type": "stream",
     "text": [
      "({'agent_id': 'adversary_0', 'obs': array([ 0.        ,  0.        ,  0.40982205,  0.19705914,  0.17799537,\n",
      "       -0.61101556,  0.11384473, -1.0767208 , -0.7282789 , -0.1734464 ,\n",
      "       -1.3814769 , -1.1557511 ,  0.38948044,  0.11139379,  0.        ,\n",
      "        0.        ], dtype=float32), 'mask': [True, True, True, True, True]}, {})\n"
     ]
    }
   ],
   "source": [
    "from tianshou.env import PettingZooEnv    \n",
    "from supersuit import pad_observations_v0\n",
    "from pettingzoo.mpe import simple_tag_v3\n",
    "\n",
    "\n",
    "env = simple_tag_v3.env(render_mode='human')\n",
    "env=pad_observations_v0(env)\n",
    "env=PettingZooEnv(env)\n",
    "obs=env.reset()\n",
    "print(obs)"
   ]
  },
  {
   "cell_type": "code",
   "execution_count": 4,
   "metadata": {},
   "outputs": [
    {
     "data": {
      "text/plain": [
       "({'agent_id': 'adversary_0',\n",
       "  'obs': array([ 0.        ,  0.        ,  0.40982205,  0.19705914,  0.17799537,\n",
       "         -0.61101556,  0.11384473, -1.0767208 , -0.7282789 , -0.1734464 ,\n",
       "         -1.3814769 , -1.1557511 ,  0.38948044,  0.11139379,  0.        ,\n",
       "          0.        ], dtype=float32),\n",
       "  'mask': [True, True, True, True, True]},\n",
       " {})"
      ]
     },
     "execution_count": 4,
     "metadata": {},
     "output_type": "execute_result"
    }
   ],
   "source": [
    "obs"
   ]
  },
  {
   "cell_type": "code",
   "execution_count": null,
   "metadata": {},
   "outputs": [],
   "source": []
  }
 ],
 "metadata": {
  "kernelspec": {
   "display_name": "pytorch",
   "language": "python",
   "name": "python3"
  },
  "language_info": {
   "codemirror_mode": {
    "name": "ipython",
    "version": 3
   },
   "file_extension": ".py",
   "mimetype": "text/x-python",
   "name": "python",
   "nbconvert_exporter": "python",
   "pygments_lexer": "ipython3",
   "version": "3.7.0"
  },
  "orig_nbformat": 4
 },
 "nbformat": 4,
 "nbformat_minor": 2
}
