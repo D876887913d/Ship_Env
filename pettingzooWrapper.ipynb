{
 "cells": [
  {
   "cell_type": "code",
   "execution_count": 10,
   "metadata": {},
   "outputs": [],
   "source": [
    "import gym\n",
    "import numpy as np\n",
    "import gymnasium.spaces as spaces\n",
    "from pettingzoo.mpe import simple_speaker_listener_v4\n",
    "import warnings\n",
    "warnings.filterwarnings(\"ignore\")"
   ]
  },
  {
   "cell_type": "code",
   "execution_count": 11,
   "metadata": {},
   "outputs": [],
   "source": [
    "class mpe_wrapper_for_pettingzoo():\n",
    "    def __init__(self,env,continuous_actions=False):        \n",
    "        self.continuous_actions = continuous_actions\n",
    "        self.observation_space = list(env.observation_spaces.values())\n",
    "        self.action_space = list(env.action_spaces.values())\n",
    "        assert len(self.observation_space) == len(self.action_space)\n",
    "        self.n = len(self.observation_space)\n",
    "        self.agents_name = list(env.observation_spaces.keys())\n",
    "        self.obs_shape_n = [\n",
    "            self.get_shape(self.observation_space[i]) for i in range(self.n)\n",
    "        ]\n",
    "        self.act_shape_n = [\n",
    "            self.get_shape(self.action_space[i]) for i in range(self.n)\n",
    "        ]\n",
    "\n",
    "    def get_shape(self, input_space):\n",
    "        if (isinstance(input_space, spaces.Box)):\n",
    "            if (len(input_space.shape) == 1):\n",
    "                return input_space.shape[0]\n",
    "            else:\n",
    "                return input_space.shape\n",
    "        elif (isinstance(input_space, spaces.Discrete)):\n",
    "            return input_space.n\n",
    "        else:\n",
    "            print('[Error] shape is {}, not Box or Discrete'.format(input_space.shape))\n",
    "            raise NotImplementedError\n",
    "\n",
    "    def reset(self):\n",
    "        obs = self.env.reset()\n",
    "        return list(obs.values())\n",
    "\n",
    "    def step(self, actions):\n",
    "        actions_dict = dict()\n",
    "        for i, act in enumerate(actions):\n",
    "            agent = self.agents_name[i]\n",
    "            if self.continuous_actions:\n",
    "                assert np.all(((act<=1.0 + 1e-3), (act>=-1.0 - 1e-3))), 'the action should be in range [-1.0, 1.0], but got {}'.format(act)\n",
    "                high = self.action_space[i].high\n",
    "                low = self.action_space[i].low\n",
    "                mapped_action = low + (act - (-1.0)) * ((high - low) / 2.0)\n",
    "                mapped_action = np.clip(mapped_action, low, high)\n",
    "                actions_dict[agent] = mapped_action\n",
    "            else:\n",
    "                actions_dict[agent] = np.argmax(act)\n",
    "        obs, reward, done, info = self.env.step(actions_dict)\n",
    "        return list(obs.values()), list(reward.values()), list(done.values()), list(info.values())\n",
    "    \n",
    "\n",
    "continuous_actions=False\n",
    "env = simple_speaker_listener_v4.parallel_env(max_cycles=25, continuous_actions=continuous_actions)\n",
    "env=mpe_wrapper_for_pettingzoo(env)\n",
    "critic_in_dim = sum(env.obs_shape_n) + sum(env.act_shape_n)\n"
   ]
  },
  {
   "cell_type": "code",
   "execution_count": null,
   "metadata": {},
   "outputs": [],
   "source": []
  },
  {
   "cell_type": "code",
   "execution_count": null,
   "metadata": {},
   "outputs": [],
   "source": []
  }
 ],
 "metadata": {
  "kernelspec": {
   "display_name": "pytorch",
   "language": "python",
   "name": "python3"
  },
  "language_info": {
   "codemirror_mode": {
    "name": "ipython",
    "version": 3
   },
   "file_extension": ".py",
   "mimetype": "text/x-python",
   "name": "python",
   "nbconvert_exporter": "python",
   "pygments_lexer": "ipython3",
   "version": "3.7.0"
  },
  "orig_nbformat": 4
 },
 "nbformat": 4,
 "nbformat_minor": 2
}
